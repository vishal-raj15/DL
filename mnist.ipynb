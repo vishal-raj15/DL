{
 "cells": [
  {
   "cell_type": "code",
   "execution_count": 1,
   "metadata": {},
   "outputs": [
    {
     "name": "stderr",
     "output_type": "stream",
     "text": [
      "Using TensorFlow backend.\n",
      "/home/vishal/.local/lib/python3.6/site-packages/tensorflow/python/framework/dtypes.py:516: FutureWarning: Passing (type, 1) or '1type' as a synonym of type is deprecated; in a future version of numpy, it will be understood as (type, (1,)) / '(1,)type'.\n",
      "  _np_qint8 = np.dtype([(\"qint8\", np.int8, 1)])\n",
      "/home/vishal/.local/lib/python3.6/site-packages/tensorflow/python/framework/dtypes.py:517: FutureWarning: Passing (type, 1) or '1type' as a synonym of type is deprecated; in a future version of numpy, it will be understood as (type, (1,)) / '(1,)type'.\n",
      "  _np_quint8 = np.dtype([(\"quint8\", np.uint8, 1)])\n",
      "/home/vishal/.local/lib/python3.6/site-packages/tensorflow/python/framework/dtypes.py:518: FutureWarning: Passing (type, 1) or '1type' as a synonym of type is deprecated; in a future version of numpy, it will be understood as (type, (1,)) / '(1,)type'.\n",
      "  _np_qint16 = np.dtype([(\"qint16\", np.int16, 1)])\n",
      "/home/vishal/.local/lib/python3.6/site-packages/tensorflow/python/framework/dtypes.py:519: FutureWarning: Passing (type, 1) or '1type' as a synonym of type is deprecated; in a future version of numpy, it will be understood as (type, (1,)) / '(1,)type'.\n",
      "  _np_quint16 = np.dtype([(\"quint16\", np.uint16, 1)])\n",
      "/home/vishal/.local/lib/python3.6/site-packages/tensorflow/python/framework/dtypes.py:520: FutureWarning: Passing (type, 1) or '1type' as a synonym of type is deprecated; in a future version of numpy, it will be understood as (type, (1,)) / '(1,)type'.\n",
      "  _np_qint32 = np.dtype([(\"qint32\", np.int32, 1)])\n",
      "/home/vishal/.local/lib/python3.6/site-packages/tensorflow/python/framework/dtypes.py:525: FutureWarning: Passing (type, 1) or '1type' as a synonym of type is deprecated; in a future version of numpy, it will be understood as (type, (1,)) / '(1,)type'.\n",
      "  np_resource = np.dtype([(\"resource\", np.ubyte, 1)])\n",
      "/home/vishal/.local/lib/python3.6/site-packages/tensorboard/compat/tensorflow_stub/dtypes.py:541: FutureWarning: Passing (type, 1) or '1type' as a synonym of type is deprecated; in a future version of numpy, it will be understood as (type, (1,)) / '(1,)type'.\n",
      "  _np_qint8 = np.dtype([(\"qint8\", np.int8, 1)])\n",
      "/home/vishal/.local/lib/python3.6/site-packages/tensorboard/compat/tensorflow_stub/dtypes.py:542: FutureWarning: Passing (type, 1) or '1type' as a synonym of type is deprecated; in a future version of numpy, it will be understood as (type, (1,)) / '(1,)type'.\n",
      "  _np_quint8 = np.dtype([(\"quint8\", np.uint8, 1)])\n",
      "/home/vishal/.local/lib/python3.6/site-packages/tensorboard/compat/tensorflow_stub/dtypes.py:543: FutureWarning: Passing (type, 1) or '1type' as a synonym of type is deprecated; in a future version of numpy, it will be understood as (type, (1,)) / '(1,)type'.\n",
      "  _np_qint16 = np.dtype([(\"qint16\", np.int16, 1)])\n",
      "/home/vishal/.local/lib/python3.6/site-packages/tensorboard/compat/tensorflow_stub/dtypes.py:544: FutureWarning: Passing (type, 1) or '1type' as a synonym of type is deprecated; in a future version of numpy, it will be understood as (type, (1,)) / '(1,)type'.\n",
      "  _np_quint16 = np.dtype([(\"quint16\", np.uint16, 1)])\n",
      "/home/vishal/.local/lib/python3.6/site-packages/tensorboard/compat/tensorflow_stub/dtypes.py:545: FutureWarning: Passing (type, 1) or '1type' as a synonym of type is deprecated; in a future version of numpy, it will be understood as (type, (1,)) / '(1,)type'.\n",
      "  _np_qint32 = np.dtype([(\"qint32\", np.int32, 1)])\n",
      "/home/vishal/.local/lib/python3.6/site-packages/tensorboard/compat/tensorflow_stub/dtypes.py:550: FutureWarning: Passing (type, 1) or '1type' as a synonym of type is deprecated; in a future version of numpy, it will be understood as (type, (1,)) / '(1,)type'.\n",
      "  np_resource = np.dtype([(\"resource\", np.ubyte, 1)])\n"
     ]
    }
   ],
   "source": [
    "from sklearn.datasets import fetch_openml\n",
    "from keras.models import Sequential\n",
    "from keras.layers import Dense\n",
    "from keras.utils import to_categorical"
   ]
  },
  {
   "cell_type": "code",
   "execution_count": 3,
   "metadata": {},
   "outputs": [],
   "source": [
    "mnist = fetch_openml('mnist_784')"
   ]
  },
  {
   "cell_type": "code",
   "execution_count": 4,
   "metadata": {},
   "outputs": [],
   "source": [
    "x,y = mnist['data'] , mnist['target']\n"
   ]
  },
  {
   "cell_type": "code",
   "execution_count": 5,
   "metadata": {},
   "outputs": [],
   "source": [
    "import matplotlib.pyplot as plt\n",
    "import matplotlib"
   ]
  },
  {
   "cell_type": "code",
   "execution_count": 6,
   "metadata": {},
   "outputs": [],
   "source": [
    "d = x[36000]\n",
    "d_img = d.reshape(28,28)"
   ]
  },
  {
   "cell_type": "code",
   "execution_count": 32,
   "metadata": {},
   "outputs": [
    {
     "name": "stdout",
     "output_type": "stream",
     "text": [
      "9\n"
     ]
    },
    {
     "data": {
      "image/png": "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\n",
      "text/plain": [
       "<Figure size 432x288 with 1 Axes>"
      ]
     },
     "metadata": {
      "needs_background": "light"
     },
     "output_type": "display_data"
    }
   ],
   "source": [
    "plt.imshow(d_img , cmap=matplotlib.cm.binary,interpolation='nearest')\n",
    "plt.axis('off')\n",
    "print(y[36000])"
   ]
  },
  {
   "cell_type": "code",
   "execution_count": 8,
   "metadata": {},
   "outputs": [],
   "source": [
    "from sklearn.model_selection import train_test_split\n",
    "import numpy as np"
   ]
  },
  {
   "cell_type": "code",
   "execution_count": 9,
   "metadata": {},
   "outputs": [],
   "source": [
    "x_train, x_test, y_train, y_test = train_test_split(x, y, test_size=10000, random_state=42)"
   ]
  },
  {
   "cell_type": "code",
   "execution_count": 10,
   "metadata": {},
   "outputs": [
    {
     "data": {
      "text/plain": [
       "(10000, 784)"
      ]
     },
     "execution_count": 10,
     "metadata": {},
     "output_type": "execute_result"
    }
   ],
   "source": [
    "x_train.shape\n",
    "x_test.shape"
   ]
  },
  {
   "cell_type": "code",
   "execution_count": 12,
   "metadata": {},
   "outputs": [],
   "source": [
    "train_img = (x_train/255) - 0.5\n",
    "test_img = (x_test/255) - 0.5"
   ]
  },
  {
   "cell_type": "code",
   "execution_count": 17,
   "metadata": {},
   "outputs": [],
   "source": [
    "# building the model\n",
    "model = Sequential()\n",
    "model.add(Dense(64, activation='relu', input_dim=784))\n",
    "model.add(Dense(64, activation='relu'))\n",
    "model.add(Dense(10, activation='softmax'))"
   ]
  },
  {
   "cell_type": "code",
   "execution_count": 20,
   "metadata": {},
   "outputs": [],
   "source": [
    "#compiling the model\n",
    "\n",
    "model.compile(\n",
    "    optimizer='adam',\n",
    "    loss = 'categorical_crossentropy', \n",
    "    metrics = ['accuracy']\n",
    ")"
   ]
  },
  {
   "cell_type": "code",
   "execution_count": 22,
   "metadata": {},
   "outputs": [
    {
     "name": "stdout",
     "output_type": "stream",
     "text": [
      "Epoch 1/5\n",
      "60000/60000 [==============================] - 6s 105us/step - loss: 0.0908 - accuracy: 0.9719\n",
      "Epoch 2/5\n",
      "60000/60000 [==============================] - 6s 108us/step - loss: 0.0816 - accuracy: 0.9739\n",
      "Epoch 3/5\n",
      "60000/60000 [==============================] - 6s 104us/step - loss: 0.0742 - accuracy: 0.9758\n",
      "Epoch 4/5\n",
      "60000/60000 [==============================] - 6s 106us/step - loss: 0.0693 - accuracy: 0.9778\n",
      "Epoch 5/5\n",
      "60000/60000 [==============================] - 6s 104us/step - loss: 0.0646 - accuracy: 0.9789\n"
     ]
    },
    {
     "data": {
      "text/plain": [
       "<keras.callbacks.callbacks.History at 0x7f7cf6b366d8>"
      ]
     },
     "execution_count": 22,
     "metadata": {},
     "output_type": "execute_result"
    }
   ],
   "source": [
    "model.fit(\n",
    "    train_img,\n",
    "    to_categorical(y_train),\n",
    "    epochs = 5,\n",
    "    batch_size = 32\n",
    "    \n",
    ")"
   ]
  },
  {
   "cell_type": "code",
   "execution_count": 24,
   "metadata": {},
   "outputs": [
    {
     "name": "stdout",
     "output_type": "stream",
     "text": [
      "10000/10000 [==============================] - 0s 39us/step\n"
     ]
    },
    {
     "data": {
      "text/plain": [
       "[0.10162379475478082, 0.9699000120162964]"
      ]
     },
     "execution_count": 24,
     "metadata": {},
     "output_type": "execute_result"
    }
   ],
   "source": [
    "#evaluate the model\n",
    "\n",
    "model.evaluate(\n",
    "    test_img,\n",
    "    to_categorical(y_test)\n",
    ")"
   ]
  },
  {
   "cell_type": "code",
   "execution_count": 28,
   "metadata": {},
   "outputs": [
    {
     "data": {
      "text/plain": [
       "array([-0.5       , -0.5       , -0.5       , -0.5       , -0.5       ,\n",
       "       -0.5       , -0.5       , -0.5       , -0.5       , -0.5       ,\n",
       "       -0.5       , -0.5       , -0.5       , -0.5       , -0.5       ,\n",
       "       -0.5       , -0.5       , -0.5       , -0.5       , -0.5       ,\n",
       "       -0.5       , -0.5       , -0.5       , -0.5       , -0.5       ,\n",
       "       -0.5       , -0.5       , -0.5       , -0.5       , -0.5       ,\n",
       "       -0.5       , -0.5       , -0.5       , -0.5       , -0.5       ,\n",
       "       -0.5       , -0.5       , -0.5       , -0.5       , -0.5       ,\n",
       "       -0.5       , -0.5       , -0.5       , -0.5       , -0.5       ,\n",
       "       -0.5       , -0.5       , -0.5       , -0.5       , -0.5       ,\n",
       "       -0.5       , -0.5       , -0.5       , -0.5       , -0.5       ,\n",
       "       -0.5       , -0.5       , -0.5       , -0.5       , -0.5       ,\n",
       "       -0.5       , -0.5       , -0.5       , -0.5       , -0.5       ,\n",
       "       -0.5       , -0.5       , -0.5       , -0.5       , -0.5       ,\n",
       "       -0.5       , -0.5       , -0.5       , -0.5       , -0.5       ,\n",
       "       -0.5       , -0.5       , -0.5       , -0.5       , -0.5       ,\n",
       "       -0.5       , -0.5       , -0.5       , -0.5       , -0.5       ,\n",
       "       -0.5       , -0.5       , -0.5       , -0.5       , -0.5       ,\n",
       "       -0.5       , -0.5       , -0.5       , -0.5       , -0.5       ,\n",
       "       -0.5       , -0.5       , -0.5       , -0.5       , -0.5       ,\n",
       "       -0.5       , -0.5       , -0.5       , -0.5       , -0.5       ,\n",
       "       -0.5       , -0.5       , -0.5       , -0.5       , -0.5       ,\n",
       "       -0.5       , -0.5       , -0.5       , -0.5       , -0.5       ,\n",
       "       -0.5       , -0.5       , -0.5       , -0.5       , -0.5       ,\n",
       "       -0.5       , -0.5       , -0.5       , -0.5       , -0.5       ,\n",
       "       -0.5       , -0.5       , -0.5       , -0.5       , -0.5       ,\n",
       "       -0.5       , -0.5       , -0.5       , -0.5       , -0.5       ,\n",
       "       -0.5       , -0.5       , -0.5       , -0.5       , -0.5       ,\n",
       "       -0.5       , -0.5       , -0.5       , -0.5       , -0.5       ,\n",
       "       -0.5       , -0.5       , -0.5       , -0.5       , -0.5       ,\n",
       "       -0.5       , -0.5       , -0.5       , -0.5       , -0.5       ,\n",
       "       -0.5       , -0.5       , -0.5       , -0.5       , -0.5       ,\n",
       "       -0.5       , -0.5       , -0.5       , -0.5       , -0.5       ,\n",
       "       -0.5       , -0.5       , -0.5       , -0.5       , -0.5       ,\n",
       "       -0.5       , -0.5       , -0.5       , -0.5       , -0.5       ,\n",
       "       -0.5       , -0.5       , -0.5       , -0.5       , -0.5       ,\n",
       "       -0.5       , -0.31568627,  0.40588235, -0.0254902 , -0.5       ,\n",
       "       -0.4254902 ,  0.14313725,  0.19803922, -0.5       , -0.5       ,\n",
       "       -0.5       , -0.5       , -0.5       , -0.5       , -0.5       ,\n",
       "       -0.5       , -0.5       , -0.5       , -0.5       , -0.5       ,\n",
       "       -0.5       , -0.5       , -0.5       , -0.5       , -0.5       ,\n",
       "       -0.5       , -0.48039216, -0.09607843, -0.30392157,  0.36666667,\n",
       "        0.49215686,  0.13529412, -0.09607843,  0.12352941,  0.49215686,\n",
       "        0.49215686, -0.1745098 , -0.5       , -0.5       , -0.5       ,\n",
       "       -0.5       , -0.5       , -0.5       , -0.5       , -0.5       ,\n",
       "       -0.5       , -0.5       , -0.5       , -0.5       , -0.5       ,\n",
       "       -0.5       , -0.5       , -0.5       , -0.5       , -0.26862745,\n",
       "        0.49215686,  0.49215686,  0.49215686,  0.49215686,  0.49607843,\n",
       "        0.49215686,  0.49215686,  0.49215686,  0.49215686, -0.11568627,\n",
       "       -0.5       , -0.5       , -0.5       , -0.5       , -0.5       ,\n",
       "       -0.5       , -0.5       , -0.5       , -0.5       , -0.5       ,\n",
       "       -0.5       , -0.5       , -0.5       , -0.5       , -0.5       ,\n",
       "       -0.5       , -0.5       ,  0.14313725,  0.49215686,  0.49215686,\n",
       "        0.49215686,  0.49215686,  0.49607843,  0.49215686,  0.49215686,\n",
       "        0.49215686,  0.49215686, -0.1745098 , -0.5       , -0.5       ,\n",
       "       -0.5       , -0.5       , -0.5       , -0.5       , -0.5       ,\n",
       "       -0.5       , -0.5       , -0.5       , -0.5       , -0.5       ,\n",
       "       -0.5       , -0.5       , -0.5       , -0.5       , -0.20196078,\n",
       "        0.49607843,  0.49215686,  0.49215686,  0.49215686,  0.49215686,\n",
       "        0.49607843,  0.49215686,  0.49215686,  0.49215686,  0.49215686,\n",
       "       -0.5       , -0.5       , -0.5       , -0.5       , -0.5       ,\n",
       "       -0.5       , -0.5       , -0.5       , -0.5       , -0.5       ,\n",
       "       -0.5       , -0.5       , -0.5       , -0.5       , -0.5       ,\n",
       "       -0.5       , -0.5       , -0.11176471,  0.5       ,  0.49607843,\n",
       "        0.33529412, -0.08823529, -0.11568627, -0.20196078, -0.44901961,\n",
       "        0.37843137,  0.49607843,  0.49607843, -0.5       , -0.5       ,\n",
       "       -0.5       , -0.5       , -0.5       , -0.5       , -0.5       ,\n",
       "       -0.5       , -0.5       , -0.5       , -0.5       , -0.5       ,\n",
       "       -0.5       , -0.5       , -0.5       , -0.5       , -0.5       ,\n",
       "       -0.14313725,  0.49607843,  0.4254902 , -0.45294118, -0.5       ,\n",
       "       -0.5       , -0.5       , -0.06470588,  0.49215686,  0.49215686,\n",
       "        0.16666667, -0.5       , -0.5       , -0.5       , -0.5       ,\n",
       "       -0.5       , -0.5       , -0.5       , -0.5       , -0.5       ,\n",
       "       -0.5       , -0.5       , -0.5       , -0.5       , -0.5       ,\n",
       "       -0.5       , -0.5       , -0.5       , -0.5       ,  0.0372549 ,\n",
       "       -0.1627451 , -0.5       , -0.5       , -0.5       , -0.22156863,\n",
       "        0.44509804,  0.49215686,  0.44117647, -0.2254902 , -0.5       ,\n",
       "       -0.5       , -0.5       , -0.5       , -0.5       , -0.5       ,\n",
       "       -0.5       , -0.5       , -0.5       , -0.5       , -0.5       ,\n",
       "       -0.5       , -0.5       , -0.5       , -0.5       , -0.5       ,\n",
       "       -0.5       , -0.5       , -0.5       , -0.5       , -0.5       ,\n",
       "       -0.5       , -0.5       ,  0.17058824,  0.49215686,  0.49215686,\n",
       "        0.27647059, -0.5       , -0.5       , -0.5       , -0.5       ,\n",
       "       -0.5       , -0.5       , -0.5       , -0.5       , -0.5       ,\n",
       "       -0.5       , -0.5       , -0.5       , -0.5       , -0.5       ,\n",
       "       -0.5       , -0.5       , -0.5       , -0.5       , -0.5       ,\n",
       "       -0.5       , -0.5       , -0.5       , -0.5       , -0.35098039,\n",
       "        0.49607843,  0.49215686,  0.37058824, -0.36666667, -0.5       ,\n",
       "       -0.5       , -0.5       , -0.5       , -0.5       , -0.5       ,\n",
       "       -0.5       , -0.5       , -0.5       , -0.5       , -0.5       ,\n",
       "       -0.5       , -0.5       , -0.5       , -0.5       , -0.5       ,\n",
       "       -0.5       , -0.5       , -0.5       , -0.5       , -0.5       ,\n",
       "       -0.5       , -0.5       ,  0.26862745,  0.5       ,  0.49607843,\n",
       "        0.18627451, -0.5       , -0.5       , -0.5       , -0.5       ,\n",
       "       -0.5       , -0.5       , -0.5       , -0.5       , -0.5       ,\n",
       "       -0.5       , -0.5       , -0.5       , -0.5       , -0.5       ,\n",
       "       -0.5       , -0.5       , -0.5       , -0.5       , -0.5       ,\n",
       "       -0.5       , -0.5       , -0.5       , -0.5       , -0.33921569,\n",
       "        0.45686275,  0.49607843,  0.4254902 , -0.27647059, -0.5       ,\n",
       "       -0.5       , -0.5       , -0.5       , -0.5       , -0.5       ,\n",
       "       -0.5       , -0.5       , -0.5       , -0.5       , -0.5       ,\n",
       "       -0.5       , -0.5       , -0.5       , -0.5       , -0.5       ,\n",
       "       -0.5       , -0.5       , -0.5       , -0.5       , -0.5       ,\n",
       "       -0.5       , -0.40196078,  0.32352941,  0.49215686,  0.49607843,\n",
       "       -0.08431373, -0.5       , -0.5       , -0.5       , -0.5       ,\n",
       "       -0.5       , -0.5       , -0.5       , -0.5       , -0.5       ,\n",
       "       -0.5       , -0.5       , -0.5       , -0.5       , -0.5       ,\n",
       "       -0.5       , -0.5       , -0.5       , -0.5       , -0.5       ,\n",
       "       -0.5       , -0.5       , -0.5       , -0.45686275,  0.32352941,\n",
       "        0.49215686,  0.49215686,  0.07254902, -0.48823529, -0.5       ,\n",
       "       -0.5       , -0.5       , -0.5       , -0.5       , -0.5       ,\n",
       "       -0.5       , -0.5       , -0.5       , -0.5       , -0.5       ,\n",
       "       -0.5       , -0.5       , -0.5       , -0.5       , -0.5       ,\n",
       "       -0.5       , -0.5       , -0.5       , -0.5       , -0.5       ,\n",
       "       -0.5       , -0.12745098,  0.49215686,  0.49215686,  0.49215686,\n",
       "       -0.26470588, -0.5       , -0.5       , -0.5       , -0.5       ,\n",
       "       -0.5       , -0.5       , -0.5       , -0.5       , -0.5       ,\n",
       "       -0.5       , -0.5       , -0.5       , -0.5       , -0.5       ,\n",
       "       -0.5       , -0.5       , -0.5       , -0.5       , -0.5       ,\n",
       "       -0.5       , -0.5       , -0.5       , -0.26862745,  0.4372549 ,\n",
       "        0.49607843,  0.49607843, -0.12352941, -0.5       , -0.5       ,\n",
       "       -0.5       , -0.5       , -0.5       , -0.5       , -0.5       ,\n",
       "       -0.5       , -0.5       , -0.5       , -0.5       , -0.5       ,\n",
       "       -0.5       , -0.5       , -0.5       , -0.5       , -0.5       ,\n",
       "       -0.5       , -0.5       , -0.5       , -0.5       , -0.5       ,\n",
       "       -0.31960784,  0.4372549 ,  0.49215686,  0.49215686,  0.41764706,\n",
       "       -0.37843137, -0.5       , -0.5       , -0.5       , -0.5       ,\n",
       "       -0.5       , -0.5       , -0.5       , -0.5       , -0.5       ,\n",
       "       -0.5       , -0.5       , -0.5       , -0.5       , -0.5       ,\n",
       "       -0.5       , -0.5       , -0.5       , -0.5       , -0.5       ,\n",
       "       -0.5       , -0.5       , -0.5       , -0.11568627,  0.49607843,\n",
       "        0.49215686,  0.49215686, -0.19019608, -0.5       , -0.5       ,\n",
       "       -0.5       , -0.5       , -0.5       , -0.5       , -0.5       ,\n",
       "       -0.5       , -0.5       , -0.5       , -0.5       , -0.5       ,\n",
       "       -0.5       , -0.5       , -0.5       , -0.5       , -0.5       ,\n",
       "       -0.5       , -0.5       , -0.5       , -0.5       , -0.5       ,\n",
       "       -0.5       , -0.11568627,  0.49607843,  0.48039216, -0.04509804,\n",
       "       -0.49215686, -0.5       , -0.5       , -0.5       , -0.5       ,\n",
       "       -0.5       , -0.5       , -0.5       , -0.5       , -0.5       ,\n",
       "       -0.5       , -0.5       , -0.5       , -0.5       , -0.5       ,\n",
       "       -0.5       , -0.5       , -0.5       , -0.5       , -0.5       ,\n",
       "       -0.5       , -0.5       , -0.5       , -0.5       , -0.11568627,\n",
       "        0.49607843,  0.26470588, -0.5       , -0.5       , -0.5       ,\n",
       "       -0.5       , -0.5       , -0.5       , -0.5       , -0.5       ,\n",
       "       -0.5       , -0.5       , -0.5       , -0.5       , -0.5       ,\n",
       "       -0.5       , -0.5       , -0.5       , -0.5       , -0.5       ,\n",
       "       -0.5       , -0.5       , -0.5       , -0.5       , -0.5       ,\n",
       "       -0.5       , -0.5       , -0.5       , -0.5       , -0.5       ,\n",
       "       -0.5       , -0.5       , -0.5       , -0.5       , -0.5       ,\n",
       "       -0.5       , -0.5       , -0.5       , -0.5       , -0.5       ,\n",
       "       -0.5       , -0.5       , -0.5       , -0.5       , -0.5       ,\n",
       "       -0.5       , -0.5       , -0.5       , -0.5       , -0.5       ,\n",
       "       -0.5       , -0.5       , -0.5       , -0.5       , -0.5       ,\n",
       "       -0.5       , -0.5       , -0.5       , -0.5       , -0.5       ,\n",
       "       -0.5       , -0.5       , -0.5       , -0.5       , -0.5       ,\n",
       "       -0.5       , -0.5       , -0.5       , -0.5       , -0.5       ,\n",
       "       -0.5       , -0.5       , -0.5       , -0.5       ])"
      ]
     },
     "execution_count": 28,
     "metadata": {},
     "output_type": "execute_result"
    }
   ],
   "source": [
    "#model.save_weights('model.h5')\n",
    "test_img[4]\n"
   ]
  },
  {
   "cell_type": "code",
   "execution_count": 50,
   "metadata": {},
   "outputs": [
    {
     "name": "stdout",
     "output_type": "stream",
     "text": [
      "[7]\n"
     ]
    }
   ],
   "source": [
    "predictions = model.predict(test_img[3:4])\n",
    "print(np.argmax(predictions, axis=1))"
   ]
  },
  {
   "cell_type": "code",
   "execution_count": 42,
   "metadata": {},
   "outputs": [],
   "source": [
    "test_model = x[3].reshape(28,28)\n"
   ]
  },
  {
   "cell_type": "code",
   "execution_count": 44,
   "metadata": {},
   "outputs": [
    {
     "data": {
      "text/plain": [
       "(-0.5, 27.5, 27.5, -0.5)"
      ]
     },
     "execution_count": 44,
     "metadata": {},
     "output_type": "execute_result"
    },
    {
     "data": {
      "image/png": "iVBORw0KGgoAAAANSUhEUgAAAOcAAADnCAYAAADl9EEgAAAABHNCSVQICAgIfAhkiAAAAAlwSFlzAAALEgAACxIB0t1+/AAAADh0RVh0U29mdHdhcmUAbWF0cGxvdGxpYiB2ZXJzaW9uMy4yLjEsIGh0dHA6Ly9tYXRwbG90bGliLm9yZy+j8jraAAAFCklEQVR4nO3dsWpUaQCG4czOgo2FVQI2go25AyGNor2FFyCxVcRKsLKy0MLGK9BSKwuLiBaCXoDgDWgjCAFFsLAIs93Cwsyf3SSzvkmep8zHnDPNyw85zMxkNputAD1//O43AMwnTogSJ0SJE6LECVF/7rL7Vy4s32TeH52cECVOiBInRIkTosQJUeKEKHFClDghSpwQJU6IEidEiROixAlR4oQocUKUOCFKnBAlTogSJ0SJE6LECVHihChxQpQ4IUqcECVOiBInRIkTosQJUeKEKHFClDghSpwQJU6IEidEiROixAlR4oSoP3/3G+DouH///nC/d+/ecJ/NZgu3t2/fDl974cKF4X4YOTkhSpwQJU6IEidEiROixAlR4oQozzn51548eTLcHzx4MNyn0+lw39nZWbhNJpPha48iJydEiROixAlR4oQocUKUOCHKoxT+tc+fPw/3X79+/U/v5HhwckKUOCFKnBAlTogSJ0SJE6LECVGec/IPb968Wbg9fvx4X9deX18f7i9fvly4ra2t7eveh5GTE6LECVHihChxQpQ4IUqcECVOiPKc85h5//79cN/c3Fy4/fjxY1/3vnPnznA/c+bMvq5/1Dg5IUqcECVOiBInRIkTosQJUeKEKM85j5mnT58O9y9fvuz52hcvXhzu165d2/O1jyMnJ0SJE6LECVHihChxQpQ4IUqcEDWZzWajfTjSs729PdxXV1eH+3Q6XbidOnVq+Npnz54N90uXLg33Y2wy749OTogSJ0SJE6LECVHihChxQpSPjB0ynz59Gu5Xr15d2r1v3bo13D0qOVhOTogSJ0SJE6LECVHihChxQpQ4IcpzzkNma2truH/8+HFf1798+fLC7fbt2/u6Nv+NkxOixAlR4oQocUKUOCFKnBAlTojy1ZgxL168GO6bm5vD/efPn8N9Y2NjuD9//nzhtra2Nnwte+arMeEwESdEiROixAlR4oQocUKUOCHK5zl/g9F3zy7ze2dXVlZWzp49O9w9y+xwckKUOCFKnBAlTogSJ0SJE6LECVGec/4GDx8+XLhNp9Ol3vvu3btLvT4Hx8kJUeKEKHFClDghSpwQJU6I8ihlCT58+DDcX716tbR7X7lyZbifO3duaffmYDk5IUqcECVOiBInRIkTosQJUeKEKD8BuASrq6vD/du3b3u+9vnz54f71tbWcD958uSe783S+AlAOEzECVHihChxQpQ4IUqcECVOiPJ5ziXY3t4e7vv5+subN28Od88xjw4nJ0SJE6LECVHihChxQpQ4IUqcEOU55x5cv359uO/yGdmVnZ2dPd97Y2Njz6/lcHFyQpQ4IUqcECVOiBInRIkTojxKmWO3n/B7/fr1cJ9M5n7T4d9OnDixcLtx48bwtWtra8Odo8PJCVHihChxQpQ4IUqcECVOiBInRHnOOcf379+H+9evX/d1/dOnTy/cHj16tK9rc3Q4OSFKnBAlTogSJ0SJE6LECVHihChxQpQ4IUqcECVOiBInRIkTosQJUeKEKJ/nnGN9fX247/YzfO/evTvIt8Mx5eSEKHFClDghSpwQJU6IEidEiROiJrPZbLQPR+BAzP1BVycnRIkTosQJUeKEKHFClDghSpwQJU6IEidEiROixAlR4oQocUKUOCFKnBAlTogSJ0SJE6LECVHihChxQpQ4IWq3nwCc+5V9wPI5OSFKnBAlTogSJ0SJE6LECVF/Aepbi9y1gU/6AAAAAElFTkSuQmCC\n",
      "text/plain": [
       "<Figure size 432x288 with 1 Axes>"
      ]
     },
     "metadata": {
      "needs_background": "light"
     },
     "output_type": "display_data"
    }
   ],
   "source": [
    "plt.imshow(test_model , cmap=matplotlib.cm.binary,interpolation='nearest')\n",
    "plt.axis('off')\n"
   ]
  },
  {
   "cell_type": "code",
   "execution_count": 58,
   "metadata": {},
   "outputs": [
    {
     "name": "stdout",
     "output_type": "stream",
     "text": [
      "[2]\n"
     ]
    },
    {
     "data": {
      "image/png": "iVBORw0KGgoAAAANSUhEUgAAAOcAAADnCAYAAADl9EEgAAAABHNCSVQICAgIfAhkiAAAAAlwSFlzAAALEgAACxIB0t1+/AAAADh0RVh0U29mdHdhcmUAbWF0cGxvdGxpYiB2ZXJzaW9uMy4yLjEsIGh0dHA6Ly9tYXRwbG90bGliLm9yZy+j8jraAAAEP0lEQVR4nO3dQW7aUBRAUVx1X4SVEVZGsjI67YD6twXja3zOsJYaq8rVl/r0vqfb7XYAen6s/QLAfeKEKHFClDghSpwQ9XPw3H/lwvKme3/o5IQocUKUOCFKnBAlTogSJ0SJE6LECVHihChxQpQ4IUqcECVOiBInRIkTosQJUeKEKHFClDghSpwQJU6IEidEiROixAlR4oQocUKUOCFKnBAlTogSJ0SNPgHIHZ+fn2u/wh99fHw89JwOJydEiROixAlR4oQocUKUOCFKnBA13W63ueezD9/V19fX7PPT6fSaF1nAaM55vV5f8yL8brr3h05OiBInRIkTosQJUeKEKHFClDghapdzztE+5uVyec2LbMxoBmpX9L+Zc8KWiBOixAlR4oQocUKUOCHK1Zj8NaOS13JyQpQ4IUqcECVOiBInRIkTosQJUeacGzOaNR6Px9nnj6zDjVbtyp9G3CInJ0SJE6LECVHihChxQpQ4IUqcELXLqzG3/Im/R6+nnKa7tzA+xeB3iT9zNSZsiTghSpwQJU6IEidEiROixAlRu9znHM0Cz+fz7PMlPxE4+tnujt0PJydEiROixAlR4oQocUKUOCFKnBC1y33OR432QUfP17zf1T5nkn1O2BJxQpQ4IUqcECVOiBInRBml7IxRSpJRCmyJOCFKnBAlTogSJ0SJE6LECVG7vBrzna25jsZzOTkhSpwQJU6IEidEiROixAlR4oQoc8438/39vdrPHl0J6vOF/8bJCVHihChxQpQ4IUqcECVOiBInRJlzbsxoX3M0a3zEaE5pjvlcTk6IEidEiROixAlR4oQocUKUOCHKnHNj1tzXvF6vq/3sPXJyQpQ4IUqcECVOiBInRIkTooxSYk6n0+zzJVfCDofD4Xw+L/r38/ecnBAlTogSJ0SJE6LECVHihChxQpQ55x2j6ycfNbf2tfQcc8T1lh1OTogSJ0SJE6LECVHihChxQpQ4IWq63W5zz2cfbtU0TWu/QtbcnPN4PL7uRf7R0rPphd39hXRyQpQ4IUqcECVOiBInRIkTosQJUW8755y7/3XtnUleb3Qf72iPdeE9V3NO2BJxQpQ4IUqcECVOiBInRL3tKMVa2P95ZGXscrk8+W065v5drtfro3+9UQpsiTghSpwQJU6IEidEiROixAlRb/sJwLnZ09w62TOM1ovm1pe2/Am+0fWUS15fOfdZxcNhm2uCTk6IEidEiROixAlR4oQocUKUOCHqbfc52ZfRHPPROefCnxi0zwlbIk6IEidEiROixAlR4oQocUKUOSesz5wTtkScECVOiBInRIkTosQJUeKEKHFClDghSpwQJU6IEidEiROixAlR4oQocUKUOCFKnBAlTogSJ0SJE6LECVHihChxQpQ4IUqcECVOiBInRIkTosQJUT8Hz+9+mgxYnpMTosQJUeKEKHFClDghSpwQ9QvBrpzBnP6qkgAAAABJRU5ErkJggg==\n",
      "text/plain": [
       "<Figure size 432x288 with 1 Axes>"
      ]
     },
     "metadata": {
      "needs_background": "light"
     },
     "output_type": "display_data"
    }
   ],
   "source": [
    "\n",
    "test = test_img[400].reshape(28,28)\n",
    "plt.imshow(test , cmap=matplotlib.cm.binary,interpolation='nearest')\n",
    "plt.axis('off')\n",
    "\n",
    "prediction = model.predict(test_img[400:401])\n",
    "print(" actual image ",np.argmax(prediction, axis=1))"
   ]
  }
 ],
 "metadata": {
  "kernelspec": {
   "display_name": "Python 3",
   "language": "python",
   "name": "python3"
  },
  "language_info": {
   "codemirror_mode": {
    "name": "ipython",
    "version": 3
   },
   "file_extension": ".py",
   "mimetype": "text/x-python",
   "name": "python",
   "nbconvert_exporter": "python",
   "pygments_lexer": "ipython3",
   "version": "3.6.9"
  }
 },
 "nbformat": 4,
 "nbformat_minor": 4
}
